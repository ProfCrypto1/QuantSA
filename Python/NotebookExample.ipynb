{
 "cells": [
  {
   "cell_type": "markdown",
   "metadata": {},
   "source": [
    "# Calling QuantSA from python\n",
    "\n",
    "The following is an example of calling the QuantSA dlls from Python. The paths below are absolute and based on the the location of my compiled dlls but it should be easy for you to work out how to change that for your own locations.\n",
    "\n",
    "# Examples of using the Library\n",
    "\n",
    "## Technicalities\n",
    "\n",
    "The main QuantSA library is written in C#.  There are many reasons why this makes sense:\n",
    "\n",
    " * It is a type-safe, object-oriented language - good for building and maintaining large code bases.\n",
    " * It is easier to learn and write than C++\n",
    " * It is faster than Python or Matlab\n",
    " * It is even becoming portable\n",
    " * It plays nicely with the typical bank employee's Microsoft Windows and Office environment\n",
    " \n",
    "Nevertheless Python (or Matlab) remain much more convenient for scientific computing where you are experimenting with different models and methods and so it could be useful to be able to mix command line style exploration and a more complete library."
   ]
  },
  {
   "cell_type": "markdown",
   "metadata": {},
   "source": [
    "### Letting Python see the C# Library:"
   ]
  },
  {
   "cell_type": "code",
   "execution_count": 18,
   "metadata": {
    "scrolled": false
   },
   "outputs": [
    {
     "name": "stdout",
     "output_type": "stream",
     "text": [
      "The library is ready to use!\n"
     ]
    }
   ],
   "source": [
    "import sys\n",
    "\n",
    "import clr # to be able to use the C# library\n",
    "\n",
    "clr.AddReference(\"System.Collections\")\n",
    "clr.AddReference(r'C:\\Users\\MohamedEl-Shahir\\Desktop\\QuantSA\\QuantSA\\QuantSA.Excel.AddIn\\bin\\Debug\\QuantSA.Shared.dll')\n",
    "clr.AddReference(r'C:\\Users\\MohamedEl-Shahir\\Desktop\\QuantSA\\QuantSA\\QuantSA.Excel.AddIn\\bin\\Debug\\QuantSA.Core.dll')\n",
    "clr.AddReference(r'C:\\Users\\MohamedEl-Shahir\\Desktop\\QuantSA\\QuantSA\\QuantSA.Excel.AddIn\\bin\\Debug\\QuantSA.CoreExtensions.dll')\n",
    "clr.AddReference(r'C:\\Users\\MohamedEl-Shahir\\Desktop\\QuantSA\\QuantSA\\QuantSA.Excel.AddIn\\bin\\Debug\\QuantSA.Valuation.dll')\n",
    "\n",
    "from System.Collections.Generic import List\n",
    "\n",
    "from QuantSA.Shared.Dates import *\n",
    "\n",
    "print(\"The library is ready to use!\")\n"
   ]
  },
  {
   "cell_type": "markdown",
   "metadata": {},
   "source": [
    "## Load Static Data"
   ]
  },
  {
   "cell_type": "code",
   "execution_count": 19,
   "metadata": {},
   "outputs": [
    {
     "name": "stdout",
     "output_type": "stream",
     "text": [
      "ZAR\n",
      "ZAR.JIBAR.3M\n"
     ]
    }
   ],
   "source": [
    "from QuantSA.CoreExtensions.Data import *\n",
    "from QuantSA.Shared.State import *\n",
    "\n",
    "SharedDataLoader.LoadFromFolder(r\"C:\\Users\\MohamedEl-Shahir\\Desktop\\QuantSA\\QuantSA\\QuantSA.Excel.AddIn\\bin\\Debug\")\n",
    "zar = QuantSAState.GetCurrency(\"ZAR\")\n",
    "jibar = QuantSAState.GetFloatRateIndex(\"ZAR.JIBAR.3M\")\n",
    "\n",
    "print(zar)\n",
    "print(jibar)"
   ]
  },
  {
   "cell_type": "markdown",
   "metadata": {},
   "source": [
    "## Making a product"
   ]
  },
  {
   "cell_type": "code",
   "execution_count": 22,
   "metadata": {},
   "outputs": [
    {
     "name": "stdout",
     "output_type": "stream",
     "text": [
      "Printing:\n",
      "QuantSA.Core.Products.SAMarket.BesaJseBond\n"
     ]
    },
    {
     "ename": "AttributeError",
     "evalue": "'JSEBondForward' object has no attribute 'ForwardPrice'",
     "output_type": "error",
     "traceback": [
      "\u001b[1;31m---------------------------------------------------------------------------\u001b[0m",
      "\u001b[1;31mAttributeError\u001b[0m                            Traceback (most recent call last)",
      "\u001b[1;32mc:\\Users\\MohamedEl-Shahir\\Desktop\\QuantSA\\Python\\NotebookExample.ipynb Cell 7\u001b[0m in \u001b[0;36m<cell line: 37>\u001b[1;34m()\u001b[0m\n\u001b[0;32m     <a href='vscode-notebook-cell:/c%3A/Users/MohamedEl-Shahir/Desktop/QuantSA/Python/NotebookExample.ipynb#W6sZmlsZQ%3D%3D?line=32'>33</a>\u001b[0m \u001b[39mprint\u001b[39m(bond)\n\u001b[0;32m     <a href='vscode-notebook-cell:/c%3A/Users/MohamedEl-Shahir/Desktop/QuantSA/Python/NotebookExample.ipynb#W6sZmlsZQ%3D%3D?line=34'>35</a>\u001b[0m future \u001b[39m=\u001b[39m  JSEBondForward(forwardDate, maturityDate, notional, annualCouponRate, couponMonth1, couponDay1, couponMonth2, couponDay2, booksCloseDateDays, zaCalendar, ccy)\n\u001b[1;32m---> <a href='vscode-notebook-cell:/c%3A/Users/MohamedEl-Shahir/Desktop/QuantSA/Python/NotebookExample.ipynb#W6sZmlsZQ%3D%3D?line=36'>37</a>\u001b[0m price \u001b[39m=\u001b[39m    future\u001b[39m.\u001b[39;49mForwardPrice(settleDate, ytm, repo)\u001b[39m.\u001b[39mGetScalar(JSEBondForwardEx\u001b[39m.\u001b[39mKeys\u001b[39m.\u001b[39mForwardPrice) \u001b[39m#future.ForwardPrice(future, settleDate, ytm, repo)\u001b[39;00m\n\u001b[0;32m     <a href='vscode-notebook-cell:/c%3A/Users/MohamedEl-Shahir/Desktop/QuantSA/Python/NotebookExample.ipynb#W6sZmlsZQ%3D%3D?line=40'>41</a>\u001b[0m \u001b[39mprint\u001b[39m(price)\n",
      "\u001b[1;31mAttributeError\u001b[0m: 'JSEBondForward' object has no attribute 'ForwardPrice'"
     ]
    }
   ],
   "source": [
    "#from QuantSA.Core.Products.Rates import *\n",
    "from QuantSA.Core.Products.SAMarket import *\n",
    "from QuantSA.CoreExtensions.SAMarket import *\n",
    "from QuantSA.Shared.Primitives import *\n",
    "from QuantSA.Shared.Primitives import *\n",
    "from QuantSA.Valuation import *\n",
    "\n",
    "nearDate = Date(\"2021-09-14\")\n",
    "farDate = Date(\"2021-12-14\")\n",
    "#fra = FRA(1000000, 0.25, 0.07, True, nearDate, farDate, jibar)\n",
    "\n",
    "#print(fra)\n",
    "\n",
    "Bond_Name = \"besaJseBond\"\n",
    "forwardDate = Date(\"2006-06-29\")\n",
    "maturityDate = Date(\"2008-01-17\")\n",
    "notional = 100\n",
    "annualCouponRate = 0.105\n",
    "couponMonth1 = 1\n",
    "couponDay1 = 25\n",
    "couponMonth2 = 6\n",
    "couponDay2 = 25\n",
    "booksCloseDateDays = 10\n",
    "zaCalendar = Calendar(\"zaCalendar\")\n",
    "ccy = Currency(\"ZAR\")\n",
    "\n",
    "settleDate = Date(\"2006-05-29\")\n",
    "ytm = 0.09\n",
    "repo = 0.06\n",
    "\n",
    "bond = BesaJseBond(maturityDate,notional,annualCouponRate,couponMonth1,couponDay1,couponMonth2,couponDay2,booksCloseDateDays,zaCalendar,ccy)\n",
    "print(\"Printing:\")\n",
    "print(bond)\n",
    "\n",
    "future =  JSEBondForward(forwardDate, maturityDate, notional, annualCouponRate, couponMonth1, couponDay1, couponMonth2, couponDay2, booksCloseDateDays, zaCalendar, ccy)\n",
    "\n",
    "price =    future.ForwardPrice(settleDate, ytm, repo).GetScalar(JSEBondForwardEx.Keys.ForwardPrice) #future.ForwardPrice(future, settleDate, ytm, repo)\n",
    "\n",
    "\n",
    "\n",
    "print(price)\n",
    "\n"
   ]
  },
  {
   "cell_type": "markdown",
   "metadata": {},
   "source": [
    "## Setting up a model"
   ]
  },
  {
   "cell_type": "code",
   "execution_count": 4,
   "metadata": {},
   "outputs": [
    {
     "name": "stdout",
     "output_type": "stream",
     "text": [
      "A model is ready.\n"
     ]
    }
   ],
   "source": [
    "from QuantSA.Core.CurvesAndSurfaces import *\n",
    "from QuantSA.Valuation.Models.Rates import *\n",
    "from QuantSA.Shared.Primitives import *\n",
    "from QuantSA.Valuation import *\n",
    "from QuantSA.CoreExtensions import *\n",
    "\n",
    "# Set up the model\n",
    "valueDate = Date(\"2020-09-14\")\n",
    "maximumDate = Date(\"2030-09-14\")\n",
    "dates = [valueDate, maximumDate]\n",
    "rates = [ 0.07, 0.07 ]\n",
    "discountCurve = DatesAndRates(zar, valueDate, dates, rates, maximumDate)\n",
    "\n",
    "numeraireModel = DeterministicCurves(discountCurve);\n",
    "otherModels = List[Simulator]() # no model other than discounting for now.\n",
    "coordinator = Coordinator(numeraireModel, otherModels, 1) # the magic ingredient that gets \n",
    "                                                          # models and products to work \n",
    "                                                          # together\n",
    "\n",
    "print(\"A model is ready.\")"
   ]
  },
  {
   "cell_type": "markdown",
   "metadata": {},
   "source": [
    "## Valuing the product with the model"
   ]
  },
  {
   "cell_type": "code",
   "execution_count": 5,
   "metadata": {},
   "outputs": [
    {
     "name": "stdout",
     "output_type": "stream",
     "text": [
      "Required index: ZAR.JIBAR.3M is not provided by any of the simulators.\n",
      "   at QuantSA.Valuation.Coordinator.AssociateFactorsWithSimulators(IEnumerable`1 portfolio, NumeraireSimulator numeraireSimulator, List`1 availableSimulators)\n",
      "   at QuantSA.Valuation.Coordinator.GetNumberOfUnderlyingFactors()\n",
      "   at QuantSA.Valuation.Coordinator.CalculateAll(IProduct[] portfolioIn, Date valueDate, Date[] fwdValueDates)\n",
      "   at QuantSA.Valuation.Coordinator.Value(IEnumerable`1 portfolioIn, Date valueDate)\n",
      "   at QuantSA.Valuation.Coordinator.Value(IProduct product, Date valueDate)\n"
     ]
    }
   ],
   "source": [
    "# Run the valuation\n",
    "portfolio = [fra]\n",
    "\n",
    "try: \n",
    "   value = coordinator.Value(fra, valueDate)\n",
    "except Exception as e: \n",
    "    print(e)\n",
    "\n"
   ]
  },
  {
   "cell_type": "markdown",
   "metadata": {},
   "source": [
    "Aha, this is good.  You can't value a FRA with a discounting model because its cashflow depends on 3 month Jibar and your model does not know anything about 3 month Jibar.\n",
    "\n",
    "With this type of constraint (which is deeply embedded in the library):\n",
    "\n",
    " * You will never work under the wrong numeraire again\n",
    " * You will never use the wrong curve to forecast a rate or asset price\n",
    " * You will never incorrectly combine cashflows in different currencies\n",
    " * etc.\n",
    " \n",
    "For our problem at hand we need to fix the model by setting it up to forecast some rates:"
   ]
  },
  {
   "cell_type": "code",
   "execution_count": 6,
   "metadata": {},
   "outputs": [
    {
     "name": "stdout",
     "output_type": "stream",
     "text": [
      "value is: 140.64\n"
     ]
    }
   ],
   "source": [
    "from QuantSA.Core.MarketData import *\n",
    "\n",
    "# add a forecast curve\n",
    "forwardRates = [0.070614, 0.070614]\n",
    "forecastCurve = ForecastCurve(valueDate, jibar, dates, forwardRates) # use flat 7% rates for forecasting\n",
    "numeraireModel = DeterministicCurves(discountCurve);\n",
    "numeraireModel.AddRateForecast(forecastCurve) # add the forecast curve to the model\n",
    "otherModels = List[Simulator]() # no model other than discounting for now.\n",
    "coordinator = Coordinator(numeraireModel, otherModels, 1)\n",
    "\n",
    "# value the product\n",
    "value = coordinator.Value(fra, valueDate)\n",
    "print(\"value is: {:.2f}\".format(value))"
   ]
  },
  {
   "cell_type": "markdown",
   "metadata": {},
   "source": [
    "Is the value right?"
   ]
  },
  {
   "cell_type": "code",
   "execution_count": 12,
   "metadata": {},
   "outputs": [
    {
     "name": "stdout",
     "output_type": "stream",
     "text": [
      "Collecting numpy\n",
      "  Downloading numpy-1.23.3-cp38-cp38-win_amd64.whl (14.7 MB)\n",
      "     --------------------------------------- 14.7/14.7 MB 12.8 MB/s eta 0:00:00\n",
      "Installing collected packages: numpy\n",
      "Successfully installed numpy-1.23.3\n",
      "value is: 140.64.  Expected 140.64\n"
     ]
    }
   ],
   "source": [
    "# check the value\n",
    "!{sys.executable} -m pip install numpy\n",
    "import numpy as np\n",
    "\n",
    "t = (nearDate.value - valueDate.value) / 365.0 # C# operator overloading does not work in Python\n",
    "dt = 0.25\n",
    "fixedRate = 0.07\n",
    "notional = 1000000.0\n",
    "fwdRate = 0.070614\n",
    "refValue = (notional * (fwdRate - fixedRate) * dt / (1 + fwdRate * dt) * \n",
    "            np.exp(-t * 0.07))\n",
    "\n",
    "print(\"value is: {:.2f}.  Expected {:.2f}\".format(value, refValue))"
   ]
  },
  {
   "cell_type": "markdown",
   "metadata": {},
   "source": [
    "And just like that the cashflow definition can be turned into a value.\n"
   ]
  },
  {
   "cell_type": "markdown",
   "metadata": {},
   "source": [
    "## Same Product Different Model\n",
    "\n",
    "In QuantSA models and products are independent.\n",
    "\n",
    "Here is a demonstration of the same FRA with a Hull White model instead of deterministic curve discounting:"
   ]
  },
  {
   "cell_type": "code",
   "execution_count": 13,
   "metadata": {},
   "outputs": [
    {
     "ename": "FileNotFoundException",
     "evalue": "Could not load file or assembly 'Accord.Statistics, Version=3.8.0.0, Culture=neutral, PublicKeyToken=null' or one of its dependencies. The system cannot find the file specified.\n   at System.Signature.GetSignature(Void* pCorSig, Int32 cCorSig, RuntimeFieldHandleInternal fieldHandle, IRuntimeMethodInfo methodHandle, RuntimeType declaringType)\r\n   at System.Signature..ctor(IRuntimeFieldInfo fieldHandle, RuntimeType declaringType)\r\n   at System.Reflection.RtFieldInfo.get_FieldType()\r\n   at Newtonsoft.Json.Serialization.DefaultContractResolver.CreateProperty(MemberInfo member, MemberSerialization memberSerialization)\r\n   at QuantSA.Core.Serialization.AllFieldsContractResolver.<>c__DisplayClass0_0.<CreateProperties>b__1(FieldInfo f)\r\n   at System.Linq.Enumerable.WhereSelectArrayIterator`2.MoveNext()\r\n   at System.Linq.Enumerable.<UnionIterator>d__67`1.MoveNext()\r\n   at System.Collections.Generic.List`1..ctor(IEnumerable`1 collection)\r\n   at System.Linq.Enumerable.ToList[TSource](IEnumerable`1 source)\r\n   at QuantSA.Core.Serialization.AllFieldsContractResolver.CreateProperties(Type type, MemberSerialization memberSerialization)\r\n   at Newtonsoft.Json.Serialization.DefaultContractResolver.CreateObjectContract(Type objectType)\r\n   at System.Collections.Concurrent.ConcurrentDictionary`2.GetOrAdd(TKey key, Func`2 valueFactory)\r\n   at Newtonsoft.Json.Serialization.DefaultContractResolver.ResolveContract(Type type)\r\n   at Newtonsoft.Json.Serialization.JsonSerializerInternalWriter.Serialize(JsonWriter jsonWriter, Object value, Type objectType)\r\n   at Newtonsoft.Json.JsonSerializer.SerializeInternal(JsonWriter jsonWriter, Object value, Type objectType)\r\n   at Newtonsoft.Json.JsonConvert.SerializeObjectInternal(Object value, Type type, JsonSerializer jsonSerializer)\r\n   at Newtonsoft.Json.JsonConvert.SerializeObject(Object value, JsonSerializerSettings settings)\r\n   at QuantSA.Core.Serialization.Cloner.Clone(Object input)\r\n   at QuantSA.Valuation.Coordinator.GetCopyOfSimulators()\r\n   at QuantSA.Valuation.Coordinator.GetNumberOfUnderlyingFactors()\r\n   at QuantSA.Valuation.Coordinator.CalculateAll(IProduct[] portfolioIn, Date valueDate, Date[] fwdValueDates)\r\n   at QuantSA.Valuation.Coordinator.Value(IEnumerable`1 portfolioIn, Date valueDate)\r\n   at QuantSA.Valuation.Coordinator.Value(IProduct product, Date valueDate)",
     "output_type": "error",
     "traceback": [
      "\u001b[1;31m---------------------------------------------------------------------------\u001b[0m",
      "\u001b[1;31mFileNotFoundException\u001b[0m                     Traceback (most recent call last)",
      "Input \u001b[1;32mIn [13]\u001b[0m, in \u001b[0;36m<cell line: 8>\u001b[1;34m()\u001b[0m\n\u001b[0;32m      5\u001b[0m newModel\u001b[38;5;241m.\u001b[39mAddForecast(jibar)  \n\u001b[0;32m      7\u001b[0m newCoordinator \u001b[38;5;241m=\u001b[39m Coordinator(newModel, List[Simulator](), \u001b[38;5;241m100000\u001b[39m)\n\u001b[1;32m----> 8\u001b[0m value \u001b[38;5;241m=\u001b[39m \u001b[43mnewCoordinator\u001b[49m\u001b[38;5;241;43m.\u001b[39;49m\u001b[43mValue\u001b[49m\u001b[43m(\u001b[49m\u001b[43mfra\u001b[49m\u001b[43m,\u001b[49m\u001b[43m \u001b[49m\u001b[43mvalueDate\u001b[49m\u001b[43m)\u001b[49m\n\u001b[0;32m      9\u001b[0m \u001b[38;5;28mprint\u001b[39m(\u001b[38;5;124m\"\u001b[39m\u001b[38;5;124mvalue with the new model is: \u001b[39m\u001b[38;5;132;01m{:.2f}\u001b[39;00m\u001b[38;5;124m\"\u001b[39m\u001b[38;5;241m.\u001b[39mformat(value))\n",
      "\u001b[1;31mFileNotFoundException\u001b[0m: Could not load file or assembly 'Accord.Statistics, Version=3.8.0.0, Culture=neutral, PublicKeyToken=null' or one of its dependencies. The system cannot find the file specified.\n   at System.Signature.GetSignature(Void* pCorSig, Int32 cCorSig, RuntimeFieldHandleInternal fieldHandle, IRuntimeMethodInfo methodHandle, RuntimeType declaringType)\r\n   at System.Signature..ctor(IRuntimeFieldInfo fieldHandle, RuntimeType declaringType)\r\n   at System.Reflection.RtFieldInfo.get_FieldType()\r\n   at Newtonsoft.Json.Serialization.DefaultContractResolver.CreateProperty(MemberInfo member, MemberSerialization memberSerialization)\r\n   at QuantSA.Core.Serialization.AllFieldsContractResolver.<>c__DisplayClass0_0.<CreateProperties>b__1(FieldInfo f)\r\n   at System.Linq.Enumerable.WhereSelectArrayIterator`2.MoveNext()\r\n   at System.Linq.Enumerable.<UnionIterator>d__67`1.MoveNext()\r\n   at System.Collections.Generic.List`1..ctor(IEnumerable`1 collection)\r\n   at System.Linq.Enumerable.ToList[TSource](IEnumerable`1 source)\r\n   at QuantSA.Core.Serialization.AllFieldsContractResolver.CreateProperties(Type type, MemberSerialization memberSerialization)\r\n   at Newtonsoft.Json.Serialization.DefaultContractResolver.CreateObjectContract(Type objectType)\r\n   at System.Collections.Concurrent.ConcurrentDictionary`2.GetOrAdd(TKey key, Func`2 valueFactory)\r\n   at Newtonsoft.Json.Serialization.DefaultContractResolver.ResolveContract(Type type)\r\n   at Newtonsoft.Json.Serialization.JsonSerializerInternalWriter.Serialize(JsonWriter jsonWriter, Object value, Type objectType)\r\n   at Newtonsoft.Json.JsonSerializer.SerializeInternal(JsonWriter jsonWriter, Object value, Type objectType)\r\n   at Newtonsoft.Json.JsonConvert.SerializeObjectInternal(Object value, Type type, JsonSerializer jsonSerializer)\r\n   at Newtonsoft.Json.JsonConvert.SerializeObject(Object value, JsonSerializerSettings settings)\r\n   at QuantSA.Core.Serialization.Cloner.Clone(Object input)\r\n   at QuantSA.Valuation.Coordinator.GetCopyOfSimulators()\r\n   at QuantSA.Valuation.Coordinator.GetNumberOfUnderlyingFactors()\r\n   at QuantSA.Valuation.Coordinator.CalculateAll(IProduct[] portfolioIn, Date valueDate, Date[] fwdValueDates)\r\n   at QuantSA.Valuation.Coordinator.Value(IEnumerable`1 portfolioIn, Date valueDate)\r\n   at QuantSA.Valuation.Coordinator.Value(IProduct product, Date valueDate)"
     ]
    }
   ],
   "source": [
    "valueDate = Date(2016, 9, 17)\n",
    "flatRate = 0.07\n",
    "newModel = HullWhite1F(zar, 0.05, 0.01, flatRate, flatRate)\n",
    "# tell HW model it is allowed to make some forecasts\n",
    "newModel.AddForecast(jibar)  \n",
    "\n",
    "newCoordinator = Coordinator(newModel, List[Simulator](), 100000)\n",
    "value = newCoordinator.Value(fra, valueDate)\n",
    "print(\"value with the new model is: {:.2f}\".format(value))"
   ]
  },
  {
   "cell_type": "markdown",
   "metadata": {},
   "source": [
    "OK that did not work. There is some issue with Accord after the move to .NETCore (I think).\n",
    "\n",
    "see https://github.com/JamesLTaylor/QuantSA/issues/77\n"
   ]
  },
  {
   "cell_type": "code",
   "execution_count": null,
   "metadata": {},
   "outputs": [],
   "source": []
  }
 ],
 "metadata": {
  "kernelspec": {
   "display_name": "Python 3.8.13 ('Python38')",
   "language": "python",
   "name": "python3"
  },
  "language_info": {
   "codemirror_mode": {
    "name": "ipython",
    "version": 3
   },
   "file_extension": ".py",
   "mimetype": "text/x-python",
   "name": "python",
   "nbconvert_exporter": "python",
   "pygments_lexer": "ipython3",
   "version": "3.8.13"
  },
  "vscode": {
   "interpreter": {
    "hash": "24d98f1f170b19bc1a3b9e9952217472052b6606e151633316d7b53c7f9b2409"
   }
  }
 },
 "nbformat": 4,
 "nbformat_minor": 1
}
