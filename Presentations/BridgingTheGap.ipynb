{
 "cells": [
  {
   "cell_type": "markdown",
   "metadata": {
    "collapsed": true
   },
   "source": [
    "# Convergence between teaching and doing quant finance with QuantSA\n",
    "\n",
    "Quantitative finance is a broad term, here I am referring to solving pricing problems in the capital markets space (with all their regulatory and other side effects).\n",
    "\n",
    "I am going to explore the possibility of creating a quant library that:\n",
    "\n",
    " * Meets the requirements of a bank to solve pricing problems\n",
    " * Has a close link to the fundamental maths concepts so that it can be used for teaching\n",
    " \n",
    "Put differently\n",
    "\n",
    " * It is fast and easy to use for actual products\n",
    " * You can find $(\\Omega, \\mathcal{F}, \\mathbb{Q})$ and $\\mathbb{E}^{\\mathbb{Q}}\\left[ H(T) \\middle| \\mathcal{F}_t \\right]$ in the code.\n"
   ]
  },
  {
   "cell_type": "markdown",
   "metadata": {},
   "source": [
    "To be useful on both sides of the job offer gap the library would need\n",
    "\n",
    " * Few and uncontroversial design decisions\n",
    " * An ability to extend and easily consume other people's extensions\n",
    " * A clear separation of problem domains:\n",
    "     * Defining product cashflows\n",
    "     * Simulating economies\n",
    "     * Mapping products and economies into cashflow and discounted expectation simulations\n",
    "     * Defining higher order measures\n",
    "     * A distributable task runner (not in the public domain yet)\n"
   ]
  },
  {
   "cell_type": "markdown",
   "metadata": {},
   "source": [
    "# Overview\n",
    "\n",
    " * Summary of teaching and doing objectives\n",
    " * Describe the library's main components\n",
    " * Show the overlap between describing an economy (teaching) and implementing a product (doing)\n",
    " * Implement a product and value it\n",
    " * How do models work?\n",
    " * Forward values and regression as a general tool for higher order cashflow modelling\n",
    " * A comment about early exercise\n",
    " * Final notes\n",
    " * Conclusions\n",
    " \n",
    " "
   ]
  },
  {
   "cell_type": "markdown",
   "metadata": {},
   "source": [
    "# Teaching and Doing\n",
    "\n",
    "## Teaching\n",
    "\n",
    "When we teach we are aiming to get students to:\n",
    "\n",
    " * Work with SDEs\n",
    " * Understand measure changes and risk neutrality\n",
    " * See contingent claims as random variables\n",
    " * Evaluate expectations of these random variables\n",
    " * Learn supporting numerical techniques to evaluate these expectations\n",
    " \n"
   ]
  },
  {
   "cell_type": "markdown",
   "metadata": {},
   "source": [
    "## Doing\n",
    "\n",
    "When we do quant work we are aiming to\n",
    "\n",
    " * Understand a contract and business's cashflows in all states of the world\n",
    " * Select a model that realistically captures the uncertainty of those states of the world\n",
    " * Calibrate the model to a cross section of prices\n",
    " * Analyse the impacts of different modelling decisions\n",
    " * Provide the model user with an easy way to get the fair present value and sensitivities of these cashflows \n",
    " \n"
   ]
  },
  {
   "cell_type": "markdown",
   "metadata": {},
   "source": [
    "## Overlap\n",
    "\n",
    "Unfortunately it seems that these two lists do not have a lot of overlap.\n",
    "\n",
    "Sometimes we explicitly teach the cashflows for a particular contingent claim\n",
    " * usually to derive a closed form price for it\n",
    " * rather than the (messy) details of the flows (lags, physical exchanges, etc)\n",
    "\n",
    "Doing requires delivering working software to the consumers of the models, but\n",
    " * Not every quant wants to be a software developer \n",
    " * Not every quant needs to be a software developer\n",
    " * Someone must provide a mechanism of getting models into working software.\n",
    " \n",
    "Can we teach in a way that increases the overlap?\n",
    "\n",
    "That is what we are going to try:\n"
   ]
  },
  {
   "cell_type": "markdown",
   "metadata": {},
   "source": [
    "# Main Library Components\n",
    "\n",
    " * Market Observables\n",
    " * Products (that don't know about models)\n",
    " * Models (that don't know about products)\n",
    " * a Coordinator \n",
    " * A regression and early exercise layer\n",
    " * Higher order metrics (PV, EPE, CVA, FVA, ...)\n"
   ]
  },
  {
   "cell_type": "markdown",
   "metadata": {},
   "source": [
    "# Setting up an Economy\n",
    "\n",
    "We assume that we have:\n",
    " \n",
    " * a final time $T$\n",
    " * a probability space, a filtration and a measure: $(\\Omega, \\mathcal{F}, \\mathbb{Q})$\n",
    " * stochastic processes: $\\textbf{W}(t)$  (not necessarily Brownian motions notwithstanding the use of $W$)\n",
    " * a single numeraire asset $N(t)$ which is a function of $\\textbf{W}(t)$, and\n",
    " * $K$ market observables are labelled $S_1(t),...S_K(t)$ which are also all functions of $\\textbf{W}(t)$\n",
    "   * these are not necessarily all tradable assets.  \n",
    "   * could be things like forward rates or default indicators\n",
    "   * just something you can see on a screen and agree on the value\n",
    "\n",
    "We further assume that the measure $\\mathbb{Q}$ is already the risk neutral one so that for any tradable asset $P$ (see later) with a cashflow only at $0<t_i<T$ we have\n",
    "\n",
    "$$ \\frac{P(t)}{N(t)} = \\mathbb{E}^\\mathbb{Q} \\left[ \\frac{P(t_i)}{N(t_i)} \\middle| \\mathcal{F}(t) \\right] $$\n",
    "\n"
   ]
  },
  {
   "cell_type": "markdown",
   "metadata": {},
   "source": [
    "## Tradable Assets/Products\n",
    "\n",
    "We assume the cashflows on any product or portfolio \n",
    " * take place at fixed times \n",
    " * are calculated as functions of the $K$ market observables.  \n",
    "\n",
    "(\n",
    "\n",
    "This does not practically limit the types of products. E.g.\n",
    " * a cashflow when a share price hits K, is a cashflow of zero everyday when it does not. \n",
    " \n",
    ")"
   ]
  },
  {
   "cell_type": "markdown",
   "metadata": {},
   "source": [
    "In general if there is a cashflow at $u_i$ it will depend on market observables at times on or before $u_i$\n",
    "\n",
    "$$ X_i = f(S_{j_0}(v_{k_0}), S_{j_1}(v_{k_1}), ...) $$\n",
    "\n",
    "with $(j_l, k_l)$ in some set $\\mathcal{J}(u_i)$ that depends on the product and $u_i$; and $v_{k_l} \\leq u_i$\n",
    "\n"
   ]
  },
  {
   "cell_type": "markdown",
   "metadata": {},
   "source": [
    "## Value of Product \n",
    "\n",
    "The value of any product at $t_0$ is then:\n",
    "\n",
    "$$ V(t_0) =  \\mathbb{E}^\\mathbb{Q} \\left[ \\sum_{u_i>t_0}{\\frac{S_{xn}(u_i)X_i}{N(u_i)}} \\right] $$\n",
    "<div style=\"text-align: right\"><b> Equation 1</b></div>\n",
    "\n",
    "Where \n",
    "* $N(u_i)$ is the numeraire in the value currency and \n",
    "* $S_{xn}$ is that market observable that converts units of the cashflow currency into units of the numeraire currency, i.e. the exchange rate.\n",
    "\n"
   ]
  },
  {
   "cell_type": "markdown",
   "metadata": {},
   "source": [
    "Any product without optionality can then be represented by \n",
    " * the set of random variables and\n",
    " * the times at which the cashflows represented by the random variables take place\n",
    "\n",
    "$$ P = \\left\\{ \\left(X_1, u_1\\right), ..., \\left(X_M, u_M\\right) \\right\\} $$\n"
   ]
  },
  {
   "cell_type": "markdown",
   "metadata": {},
   "source": [
    "## Link to Doing\n",
    "\n",
    "This all seems more like teaching quant finance rather than doing quant finance.\n",
    "\n",
    "What do the $S$ look like and what does a $P$ look like?"
   ]
  },
  {
   "cell_type": "markdown",
   "metadata": {},
   "source": [
    "The types of $S$ that currently exist in QuantSA are:\n",
    "\n",
    " * CurrencyPair\n",
    " * DefaultRecovery\n",
    " * DefaultTime\n",
    " * Dividend\n",
    " * FloatingIndex\n",
    " * Share"
   ]
  },
  {
   "cell_type": "markdown",
   "metadata": {},
   "source": [
    "And each of these has a specific sub-type, e.g.:  \n",
    " * CurrencyPair will have a base and counter currency, \n",
    " * DefaultTime will have a company and default type and \n",
    " * FloatingIndex will be one of the world's named floating indices such as 3 month Jibar.\n",
    "\n",
    "The specific sub-type of each of these has a value that is observable on a well defined screen at a well defined time.\n",
    "\n",
    "The cashflows on a product can be written as functions of these observables.\n",
    "\n"
   ]
  },
  {
   "cell_type": "markdown",
   "metadata": {},
   "source": [
    "### Example FRA\n",
    "The cashflow on a South African FRA depends only on 3m Jibar, let's call that say $S_0$, observed on a single date $u_1$, a fixed rate $K$ and an accrual fraction $\\Delta t$:\n",
    "\n",
    "$$ P_{FRA} = \\left\\{ \\left( (S_0(u_1)-K) \\Delta t \\frac{1}{1+ S_0(u_1) \\Delta t} , u_1 \\right) \\right\\}$$"
   ]
  },
  {
   "cell_type": "markdown",
   "metadata": {},
   "source": [
    "### Example Equity Call Option\n",
    "The cashflow on a cash settled equity call option with exercise date $u_1$ on a single share, say $S_1$, with strike $K$:\n",
    "\n",
    "$$ P_{CALL} = \\left\\{ \\left( \\max(S_1(u_1)-K,0), u_1 \\right) \\right\\}$$\n"
   ]
  },
  {
   "cell_type": "markdown",
   "metadata": {},
   "source": [
    "# Implementing a Product\n",
    "\n",
    "We have seen the maths of how products are defined, now let us see how to implement them in QuantSA."
   ]
  },
  {
   "cell_type": "markdown",
   "metadata": {
    "collapsed": true
   },
   "source": [
    "\n",
    "## Example code FRA\n",
    "```cs\n",
    "Date date = new Date(2017, 08, 28);\n",
    "FloatingIndex jibar = FloatingIndex.JIBAR3M;\n",
    "double dt = 91.0/365.0;\n",
    "double fixedRate = 0.071;\n",
    "double notional = 1000000.0;\n",
    "Currency currency = Currency.ZAR;\n",
    "\n",
    "public override List<Cashflow> GetCFs()\n",
    "{\n",
    "    double reset = Get(jibar, date);\n",
    "    double cfAmount = notional * (reset - fixedRate)*dt/(1+dt*reset);\n",
    "    return new List<Cashflow>() { new Cashflow(date, cfAmount, currency) };\n",
    "}\n",
    "```"
   ]
  },
  {
   "cell_type": "markdown",
   "metadata": {},
   "source": [
    "## Example code Call\n",
    "\n",
    "```cs\n",
    "Date exerciseDate = new Date(2017, 08, 28);\n",
    "Share share = new Share(\"AAA\", Currency.ZAR);\n",
    "double strike = 100.0;\n",
    "\n",
    "public override List<Cashflow> GetCFs()\n",
    "{\n",
    "    double amount = Math.Max(0, Get(share, exerciseDate) - strike);\n",
    "    return new List<Cashflow>() {new Cashflow(exerciseDate, amount, share.currency) };        \n",
    "}\n",
    "```\n"
   ]
  },
  {
   "cell_type": "markdown",
   "metadata": {},
   "source": [
    "## Code Explanation\n",
    "\n",
    "We simply \n",
    " * define the market observables, \n",
    " * specify other contract details and \n",
    " * implement a formula to describe the cashflow.  \n",
    " \n",
    "The only apparent magic is the function call:\n",
    "\n",
    "`Get(jibar, date)`\n"
   ]
  },
  {
   "cell_type": "markdown",
   "metadata": {},
   "source": [
    "This product description script is common to many quant libraries available on the market.\n",
    " * similar to Portfolio Aggregation Language (PAL) described in Cesari *et al* (2010).  \n",
    "     * smaller vocabulary, \n",
    "     * the syntax is straight C#, and \n",
    "     * there is no information other than what would be contained in the trade confirmation sheet.\n",
    "\n",
    "As you can see we have \"taught\" exactly what a FRA and a call option are in a completely model independent way.\n",
    "\n",
    "The next step is to look at how to value these products."
   ]
  },
  {
   "cell_type": "markdown",
   "metadata": {},
   "source": [
    "# Examples of using the Library"
   ]
  },
  {
   "cell_type": "markdown",
   "metadata": {},
   "source": [
    "## Technicalities\n",
    "\n",
    "The library is written in C#.  There are many reasons why this makes sense:\n",
    "\n",
    " * It is a type-safe, object-oriented language - good for building and maintaining large code bases.\n",
    " * It is easier to learn and write than C++\n",
    " * It is faster than Python or Matlab\n",
    " * It is even becoming portable\n",
    " * It plays nicely with the typical bank employee's Microsoft Windows and Office environment\n",
    " \n",
    "Nevertheless Python (or Matlab) remain much more convenient for scientific computing where you are experimenting with different models and methods.\n",
    "\n",
    "In the following we will use QuantSA from Python."
   ]
  },
  {
   "cell_type": "markdown",
   "metadata": {},
   "source": [
    "### Letting Python see the C# Library:"
   ]
  },
  {
   "cell_type": "code",
   "execution_count": 1,
   "metadata": {
    "collapsed": false,
    "scrolled": false
   },
   "outputs": [
    {
     "name": "stdout",
     "output_type": "stream",
     "text": [
      "The library is ready to use!\n"
     ]
    }
   ],
   "source": [
    "import clr # to be able to use the C# library\n",
    "\n",
    "clr.AddReference(\"System.Collections\")\n",
    "clr.AddReference(r'C:\\Dev\\QuantSA\\QuantSA\\Valuation\\bin\\Debug\\QuantSA.General.dll')\n",
    "clr.AddReference(r'C:\\Dev\\QuantSA\\QuantSA\\Valuation\\bin\\Debug\\QuantSA.Valuation.dll')\n",
    "\n",
    "from System.Collections.Generic import List\n",
    "from QuantSA.General import *\n",
    "from QuantSA.Valuation import *\n",
    "print(\"The library is ready to use!\")"
   ]
  },
  {
   "cell_type": "markdown",
   "metadata": {},
   "source": [
    "## Making a product"
   ]
  },
  {
   "cell_type": "code",
   "execution_count": 2,
   "metadata": {
    "collapsed": false
   },
   "outputs": [
    {
     "name": "stdout",
     "output_type": "stream",
     "text": [
      "Now we have a FRA:\n",
      "MyFRA\n"
     ]
    }
   ],
   "source": [
    "source = \"\"\"Date date = new Date(2017, 8, 28);\n",
    "FloatingIndex jibar = FloatingIndex.JIBAR3M;\n",
    "double dt = 91.0/365.0;\n",
    "double fixedRate = 0.069;\n",
    "double notional = 1000000.0;\n",
    "Currency currency = Currency.ZAR;\n",
    "\n",
    "public override List<Cashflow> GetCFs()\n",
    "{\n",
    "    double reset = Get(jibar, date);\n",
    "    double cfAmount = notional * (reset - fixedRate)*dt/(1+dt*reset);\n",
    "    return new List<Cashflow>() { new Cashflow(date, cfAmount, currency) };\n",
    "}\n",
    "\"\"\"\n",
    "# Make a product at runtime\n",
    "fra = RuntimeProduct.CreateFromString(\"MyFRA\", source);\n",
    "print(\"Now we have a FRA:\")\n",
    "print(fra)\n"
   ]
  },
  {
   "cell_type": "markdown",
   "metadata": {},
   "source": [
    "## Setting up a model\n",
    "\n",
    "We haven't described how to make a model or exactly what it does but the following code is fairly easy to understand:"
   ]
  },
  {
   "cell_type": "code",
   "execution_count": 3,
   "metadata": {
    "collapsed": false
   },
   "outputs": [
    {
     "name": "stdout",
     "output_type": "stream",
     "text": [
      "A model is ready.\n"
     ]
    }
   ],
   "source": [
    "# Set up the model\n",
    "valueDate = Date(2016, 9, 17)\n",
    "maximumDate = Date(2026, 9, 17)\n",
    "\n",
    "dates = [Date(2016, 9, 17) , Date(2026, 9, 17)]\n",
    "rates = [ 0.07, 0.07 ]\n",
    "discountCurve = DatesAndRates(Currency.ZAR, valueDate, dates, rates, maximumDate)\n",
    "\n",
    "numeraireModel = DeterminsiticCurves(discountCurve);\n",
    "otherModels = List[Simulator]() # no model other than discounting for now.\n",
    "coordinator = Coordinator(numeraireModel, otherModels, 1) # the magic ingredient that gets \n",
    "                                                          # models and products to work \n",
    "                                                          # together\n",
    "\n",
    "print(\"A model is ready.\")"
   ]
  },
  {
   "cell_type": "markdown",
   "metadata": {},
   "source": [
    "## Valuing the product with the model"
   ]
  },
  {
   "cell_type": "code",
   "execution_count": 4,
   "metadata": {
    "collapsed": false
   },
   "outputs": [
    {
     "name": "stdout",
     "output_type": "stream",
     "text": [
      "Required index: ZAR:JIBAR:3M is not provided by any of the simulators.\n",
      "   at QuantSA.Valuation.Coordinator.AssociateFactorsWithSimulators(List`1 portfolio) in C:\\Dev\\QuantSA\\QuantSA\\Valuation\\Coordinator.cs:line 654\r\n",
      "   at QuantSA.Valuation.Coordinator.CalculateAll(Product[] portfolioIn, Date valueDate, Date[] fwdValueDates) in C:\\Dev\\QuantSA\\QuantSA\\Valuation\\Coordinator.cs:line 464\r\n",
      "   at QuantSA.Valuation.Coordinator.Value(Product[] portfolioIn, Date valueDate) in C:\\Dev\\QuantSA\\QuantSA\\Valuation\\Coordinator.cs:line 569\n"
     ]
    }
   ],
   "source": [
    "# Run the valuation\n",
    "portfolio = [fra]\n",
    "\n",
    "try: \n",
    "   value = coordinator.Value(portfolio, valueDate)\n",
    "except Exception as e: \n",
    "    print(e)\n",
    "\n"
   ]
  },
  {
   "cell_type": "markdown",
   "metadata": {},
   "source": [
    "Aha, this is good.  You can't value a FRA with a discounting model because its cashflow depends on 3 month Jibar and your model does not know anything about 3 month Jibar.\n",
    "\n",
    "With this type of constraint (which is deeply embedded in the library):\n",
    "\n",
    " * You will never work under the wrong numeraire again\n",
    " * You will never use the wrong curve to forecast a rate or asset price\n",
    " * You will never incorrectly combine cashflows in different currencies\n",
    " * etc.\n",
    " \n",
    "For our problem at hand we need to fix the model by setting it up to forecast some rates:"
   ]
  },
  {
   "cell_type": "code",
   "execution_count": 5,
   "metadata": {
    "collapsed": false
   },
   "outputs": [
    {
     "name": "stdout",
     "output_type": "stream",
     "text": [
      "value is: 370.12\n"
     ]
    }
   ],
   "source": [
    "# add a forecast curve\n",
    "forwardRates = [0.070614, 0.070614]\n",
    "forecastCurve = ForecastCurve(valueDate, FloatingIndex.JIBAR3M, dates, forwardRates) # use flat 7% rates for forecasting\n",
    "numeraireModel.AddRateForecast(forecastCurve) # add the forecast curve to the model\n",
    "\n",
    "# value the product\n",
    "portfolio = [fra]\n",
    "value = coordinator.Value(portfolio, valueDate)\n",
    "print(\"value is: {:.2f}\".format(value))"
   ]
  },
  {
   "cell_type": "markdown",
   "metadata": {},
   "source": [
    "Is the value right?"
   ]
  },
  {
   "cell_type": "code",
   "execution_count": 6,
   "metadata": {
    "collapsed": false
   },
   "outputs": [
    {
     "name": "stdout",
     "output_type": "stream",
     "text": [
      "value is: 370.12.  Expected 370.12\n"
     ]
    }
   ],
   "source": [
    "# check the value\n",
    "import numpy as np\n",
    "date = Date(2017, 8, 28)\n",
    "t = (date.value - valueDate.value) / 365.0 # C# operator overloading does not work in Python\n",
    "dt = 91.0 / 365.0\n",
    "fixedRate = 0.069\n",
    "notional = 1000000.0\n",
    "fwdRate = 0.070614\n",
    "refValue = (notional * (fwdRate - fixedRate) * dt / (1 + fwdRate * dt) * \n",
    "            np.exp(-t * 0.07))\n",
    "\n",
    "print(\"value is: {:.2f}.  Expected {:.2f}\".format(value, refValue))"
   ]
  },
  {
   "cell_type": "markdown",
   "metadata": {},
   "source": [
    "And just like that the cashflow definition can be turned into a value.\n"
   ]
  },
  {
   "cell_type": "markdown",
   "metadata": {},
   "source": [
    "## Same Product Different Model\n",
    "\n",
    "I have hinted that models and products are independent.\n",
    "\n",
    "Here is a demonstration of the same FRA with a Hull White model instead of deterministic curve discounting:"
   ]
  },
  {
   "cell_type": "code",
   "execution_count": 7,
   "metadata": {
    "collapsed": false
   },
   "outputs": [
    {
     "name": "stdout",
     "output_type": "stream",
     "text": [
      "value with the new model is: 373.65\n"
     ]
    }
   ],
   "source": [
    "valueDate = Date(2016, 9, 17)\n",
    "flatRate = 0.07\n",
    "newModel = HullWhite1F(Currency.ZAR, 0.05, 0.01, flatRate, flatRate, valueDate)\n",
    "# tell HW model it is allowed to make some forecasts\n",
    "newModel.AddForecast(FloatingIndex.JIBAR3M)  \n",
    "\n",
    "newCoordinator = Coordinator(newModel, List[Simulator](), 100000)\n",
    "value = newCoordinator.Value(portfolio, valueDate)\n",
    "print(\"value with the new model is: {:.2f}\".format(value))"
   ]
  },
  {
   "cell_type": "markdown",
   "metadata": {},
   "source": [
    "# Implementing a Model\n",
    "\n",
    "I won't spend much time describing how to implement models, that remains roughly the same as in the \"olden days\":\n",
    "\n",
    " * You calibrate to market data, \n",
    " * obtain some parametrization of the stochastic processes $\\textbf{W}(t)$ and functions $S_i(t)$, and then\n",
    " * simulate the $S$s.\n",
    " \n",
    "The coordinating component moves the simulated values and cashflows between the products and models."
   ]
  },
  {
   "cell_type": "markdown",
   "metadata": {},
   "source": [
    "The canonical numerical scheme is Monte Carlo.  \n",
    " * For many real world pricing problems Monte Carlo is the only feasible option once \n",
    "     * sufficiently realistic dynamics and \n",
    "     * enough of the side effects are modelled.\n",
    "\n",
    "Other numerical schemes can be implemented:\n",
    " * The first FRA model above uses the same machinery but is a curve based valuation.\n",
    "     * The curve based model is fast even in this general framework:\n",
    "     * In a test it valued a large portfolio of swaps averaging 0.5ms per swap.\n",
    " * In principle other numerical schemes could also be possible\n"
   ]
  },
  {
   "cell_type": "markdown",
   "metadata": {},
   "source": [
    " \n",
    "## Expectation via Simulation\n",
    "\n",
    "The simulation based valuation boils down to estimating:\n",
    "$$ V(t_0) =  \\mathbb{E}^\\mathbb{Q} \\left[ \\sum_{u_i>t_0}{\\frac{S_{xn}(u_i)X_i}{N(u_i)}} \\right] $$\n",
    "\n",
    "as \n",
    "\n",
    "$$ V(t_0) \\approx \\frac{1}{j_{max}+1}  \\sum_{j=0}^{j_{max}} \\left[ \\sum_{u_i>t_0}{\\frac{S^{(j)}_{xn}(u_i)X^{(j)}_i}{N^{(j)}(u_i)}} \\right] $$\n",
    "\n",
    "\n",
    "The deterministic model does one simulation"
   ]
  },
  {
   "cell_type": "markdown",
   "metadata": {},
   "source": [
    "\n",
    "# Forward Values\n",
    "\n",
    "In addition to the cashflows on a product that are explicitly defined by the bilateral contract, there are many other financial effects of trading a product such as:\n",
    "\n",
    " 1. The need to fund the cashflows\n",
    " 1. The capital required to be held against the position\n",
    " 1. The loss in the event the counterparty defaults\n",
    " 1. The need to place collateral and fund that collateral position\n",
    " 1. The gain in the event that we default ourselves...\n",
    " \n",
    "In general these depend on the bank's fair value of these products at future dates\n"
   ]
  },
  {
   "cell_type": "markdown",
   "metadata": {},
   "source": [
    "## Simulating forward values\n",
    "\n",
    "If we require the forward value at time $t_i > t_0$ we need to evaluate\n",
    "\n",
    "$$\n",
    "V(t_i) = N(t_i)\\mathbb{E}^\\mathbb{Q}\\left[ \\sum_{u_i>t_i}{\\frac{S_{xn}(u_i)X_i}{N(u_i)}} \\middle| \\mathcal{F}(t_i) \\right]\n",
    "$$\n",
    "\n",
    " * Note that $V(t_0)$ is not random since all states of the world agree up to $t_0$ the time we are at when we fit the model and perform the valuation.\n",
    " * If $t_i>t_0$ then $V(t_i)$ is random and will be a function of the world observed up to $t_i$\n",
    " \n",
    "This could be evaluated with another Monte Carlo simulation beyond $t_i$ for each state of the world observed up to $t_i$ but this is prohibitively expensive."
   ]
  },
  {
   "cell_type": "markdown",
   "metadata": {},
   "source": [
    "We rather assume that the $X$s, $S$s and $N$ are Markov and note (see Shreve [4] Def 2.3.6) that \n",
    "\n",
    "$$\n",
    "V(t_i) = g(t_i, \\textbf{W}(t_i))\n",
    "$$\n",
    "\n",
    "Longstaff and Schwartz [3] describe how to use regression to estimate this function $g$ given realizations of $\\sum_{u_i>t_i}{\\frac{S_{xn}(u_i)X_i}{N(u_i)}}$\n",
    "\n",
    "In general $g$ is **exactly** that function of $\\textbf{W}(t_i)$ that minimizes $\\mathbb{E}^\\mathbb{Q}\\left[ \\left(g(\\textbf{W}(t_i)) - \\sum_{u_i>t_i}{\\frac{S_{xn}(u_i)X_i}{N(u_i)}} \\right)^2 \\right]$\n",
    "\n",
    "The **approximation** comes because we are estimating it from a finite sample.\n",
    "\n",
    "Because of the finite sample:\n",
    " * we need to apply our own regularity conditions to $g$ \n",
    " * otherwise it would be possible to set the square error to zero for one set of paths\n",
    " * we need a $g$ that will work with out-of-sample paths.\n"
   ]
  },
  {
   "cell_type": "markdown",
   "metadata": {},
   "source": [
    "In the QuantSA library this problem is solved by the coordinating component\n",
    " * models and products do not need to worry about it.\n",
    " * It is a separate component where development can be done that would benefit all models and products\n",
    " * The problem is well defined and is amenable to all the modern tools of datascience.\n",
    "     * e.g. could train offline with cross validation to choose the best set of basis functions then online fit to all the data.\n",
    "\n",
    "Lets look at an example of it working:"
   ]
  },
  {
   "cell_type": "markdown",
   "metadata": {},
   "source": [
    "## Example of obtaining forward values"
   ]
  },
  {
   "cell_type": "code",
   "execution_count": 8,
   "metadata": {
    "collapsed": false
   },
   "outputs": [
    {
     "name": "stdout",
     "output_type": "stream",
     "text": [
      "Now we have a swap:\n",
      "QuantSA.General.IRSwap\n"
     ]
    }
   ],
   "source": [
    "# Set up a swap, which has a more interesting value profile than a FRA\n",
    "rate = 0.08\n",
    "payFixed = True\n",
    "notional = 1000000\n",
    "startDate = Date(2016, 9, 17)\n",
    "tenor = Tenor.Years(5)\n",
    "swap = IRSwap.CreateZARSwap(rate, payFixed, notional, startDate, tenor)\n",
    "print(\"Now we have a swap:\")\n",
    "print(swap)"
   ]
  },
  {
   "cell_type": "code",
   "execution_count": 9,
   "metadata": {
    "collapsed": false
   },
   "outputs": [
    {
     "name": "stdout",
     "output_type": "stream",
     "text": [
      "A stochastic rate model is ready (Hull White).\n"
     ]
    }
   ],
   "source": [
    "# Set up a stochastic model\n",
    "valueDate = Date(2016, 9, 17)\n",
    "a = 0.05\n",
    "vol = 0.01\n",
    "flatCurveRate = 0.07\n",
    "hullWiteSim = HullWhite1F(Currency.ZAR, a, vol, flatCurveRate, flatCurveRate, valueDate)\n",
    "hullWiteSim.AddForecast(FloatingIndex.JIBAR3M)\n",
    "hwCoordinator = Coordinator(hullWiteSim, List[Simulator](), 5000)\n",
    "\n",
    "print(\"A stochastic rate model is ready (Hull White).\")"
   ]
  },
  {
   "cell_type": "code",
   "execution_count": 11,
   "metadata": {
    "collapsed": false
   },
   "outputs": [],
   "source": [
    "# make the forward dates on which the values are required\n",
    "from datetime import datetime\n",
    "from datetime import timedelta\n",
    "step = timedelta(days=10)\n",
    "pyDates = []\n",
    "date = datetime(2016, 9, 17)\n",
    "endDate = datetime(2021,9,17)\n",
    "while date<endDate:\n",
    "    date += step\n",
    "    pyDates.append(date)\n",
    "csDates = [Date(d.year, d.month, d.day) for d in pyDates]"
   ]
  },
  {
   "cell_type": "code",
   "execution_count": 13,
   "metadata": {
    "collapsed": false
   },
   "outputs": [
    {
     "name": "stdout",
     "output_type": "stream",
     "text": [
      "Available data:\n",
      "   fwdCashflowPVs\n",
      "   regressedFwdsPVs\n",
      "   regressor0\n"
     ]
    }
   ],
   "source": [
    "# Get the simulated forward values and the regressors used to obtain them\n",
    "hwCoordinator.SetThreadedness(True)\n",
    "valuePaths = hwCoordinator.GetValuePaths([swap], valueDate, csDates)\n",
    "print(\"Available data:\")\n",
    "for s in valuePaths.GetNames():\n",
    "    print(\"   \" + s)"
   ]
  },
  {
   "cell_type": "code",
   "execution_count": 14,
   "metadata": {
    "collapsed": false
   },
   "outputs": [],
   "source": [
    "import sys\n",
    "sys.path.insert(0, r'..\\Python')\n",
    "import quantsa as qsa\n",
    "\n",
    "fwdCashflowPVs = qsa.getnumpy(valuePaths.Get(\"fwdCashflowPVs\"))\n",
    "regressor0 = qsa.getnumpy(valuePaths.Get(\"regressor0\"))\n",
    "regressedFwdsPVs = qsa.getnumpy(valuePaths.Get(\"regressedFwdsPVs\"))\n",
    "\n"
   ]
  },
  {
   "cell_type": "code",
   "execution_count": 15,
   "metadata": {
    "collapsed": false
   },
   "outputs": [
    {
     "data": {
      "text/plain": [
       "[<matplotlib.lines.Line2D at 0x10272a90>]"
      ]
     },
     "execution_count": 15,
     "metadata": {},
     "output_type": "execute_result"
    },
    {
     "data": {
      "image/png": "[encoded data removed]",
      "text/plain": [
       "<matplotlib.figure.Figure at 0x10181ef0>"
      ]
     },
     "metadata": {},
     "output_type": "display_data"
    }
   ],
   "source": [
    "%matplotlib inline\n",
    "import matplotlib.pyplot as plt\n",
    "\n",
    "fig = plt.figure()\n",
    "ax = fig.add_subplot(1, 1, 1)\n",
    "ax.set_xlim([0, 0.15])\n",
    "ax.set_ylim([-150000, 100000])\n",
    "col = 17 # up to 181\n",
    "plt.plot(regressor0[:,col], fwdCashflowPVs[:,col],'.')\n",
    "plt.plot(regressor0[:,col], regressedFwdsPVs[:,col],'k.')"
   ]
  },
  {
   "cell_type": "markdown",
   "metadata": {},
   "source": [
    "# Higher Order Measures\n",
    "\n",
    "xVA etc.\n",
    "\n",
    "Most \"valuations\" that we perform are based on:\n",
    " * Fair value simulations, \n",
    " * Possibly some other market observables (eg. an FVA could need a funding rate)\n",
    " * A operation on these two"
   ]
  },
  {
   "cell_type": "markdown",
   "metadata": {},
   "source": [
    "Example 1: The expected positive exposure depends on \n",
    " * expected future fair values\n",
    " * no other market observables\n",
    " * a simple positive operator"
   ]
  },
  {
   "cell_type": "markdown",
   "metadata": {},
   "source": [
    "Example 2: The CVA depends on:\n",
    " * expected future fair values\n",
    " * A default indicator on each path at each time\n",
    " * The product of default on a path at a time and the positive part of the future value at the same point"
   ]
  },
  {
   "cell_type": "markdown",
   "metadata": {},
   "source": [
    "Again these are separate from the models and the products.\n",
    "\n",
    "If you implement a way to estimate, say, the pricing impact of initial margin it will work with anybody else's models and or products."
   ]
  },
  {
   "cell_type": "markdown",
   "metadata": {},
   "source": [
    "## Code Example: Expected Positive Exposure"
   ]
  },
  {
   "cell_type": "code",
   "execution_count": 16,
   "metadata": {
    "collapsed": false
   },
   "outputs": [
    {
     "data": {
      "text/plain": [
       "[<matplotlib.lines.Line2D at 0x103ce270>]"
      ]
     },
     "execution_count": 16,
     "metadata": {},
     "output_type": "execute_result"
    },
    {
     "data": {
      "image/png": "[encoded data removed]",
      "text/plain": [
       "<matplotlib.figure.Figure at 0x10258310>"
      ]
     },
     "metadata": {},
     "output_type": "display_data"
    }
   ],
   "source": [
    "positive_mtm = regressedFwdsPVs\n",
    "positive_mtm[positive_mtm<0] = 0\n",
    "epe = np.mean(positive_mtm, 0)\n",
    "plt.plot(epe)"
   ]
  },
  {
   "cell_type": "markdown",
   "metadata": {},
   "source": [
    "# Early exercise\n",
    "\n",
    "For completeness we should at least mention early exercise products.\n",
    "\n",
    "Stopping times in quant finance are not complicated stochastic control problems.\n",
    "\n",
    "The only exercise decisions that I have ever seen involve deciding to exercise or not at a set of dates.  "
   ]
  },
  {
   "cell_type": "markdown",
   "metadata": {},
   "source": [
    "Always, one knows the cashflows as functions of states of the world both\n",
    " * when one exercises, and  \n",
    " * when one does not exercise .\n",
    "\n",
    "The optimal stopping time for the person who owns this right is the one that chooses the alternative with the higher expected value.\n",
    "\n",
    "This is again a general problem that does not need to be solved for each product and model."
   ]
  },
  {
   "cell_type": "markdown",
   "metadata": {
    "collapsed": true
   },
   "source": [
    "Recall that we defined a product as:\n",
    "\n",
    "$$ P = \\left\\{ \\left(X_1, u_1\\right), ..., \\left(X_M, u_M\\right) \\right\\} $$\n",
    "\n",
    "Similarly we can define a product with early exercise as \n",
    "\n",
    "$$\n",
    "O = P_{noex} \\text{ and } \\left\\{ \\left(Q_1, e_1\\right), ..., \\left(Q_M, e_M\\right) \\right\\}\n",
    "$$\n",
    "\n",
    "Where \n",
    " * the $Q_i$ are the products that will be exercised into if the optimal stopping time is equal to $e_i$, and \n",
    " * the cashflows in $P_{noex}$ will stop at the optimal stopping time.\n"
   ]
  },
  {
   "cell_type": "markdown",
   "metadata": {},
   "source": [
    "The extra pieces that need to be implemented on a product are then:\n",
    "\n",
    "```cs\n",
    "List<Product> GetPostExProducts();\n",
    "List<Date> GetExerciseDates()\n",
    "```"
   ]
  },
  {
   "cell_type": "markdown",
   "metadata": {},
   "source": [
    "## Code Example: Bermudan Swaption\n",
    "\n",
    "For a Bermudan swaption, there are no cashflows before exercise.  \n",
    "\n",
    "Once exercise has taken place the cashflows are those of a swap.\n",
    "\n",
    "We have a swap from above, this forms the $Q_i$ at each of the exercise dates\n",
    "\n",
    "We simply need to set up the exercise dates:\n"
   ]
  },
  {
   "cell_type": "code",
   "execution_count": 17,
   "metadata": {
    "collapsed": false
   },
   "outputs": [],
   "source": [
    "# Make a Bermudan Swaption\n",
    "exDates = List[Date]()\n",
    "exDates.Add(Date(2017, 9, 17))\n",
    "exDates.Add(Date(2018, 9, 17))\n",
    "exDates.Add(Date(2019, 9, 17))\n",
    "exDates.Add(Date(2020, 9, 17))\n",
    "bermudan = BermudanSwaption(swap, exDates, True)\n",
    "\n",
    "# Get the simulated forward values and the regressors used to obtain them\n",
    "valuePaths = hwCoordinator.GetValuePaths([bermudan], valueDate, csDates)\n",
    "fwdCashflowPVs = qsa.getnumpy(valuePaths.Get(\"fwdCashflowPVs\"))\n",
    "regressor0 = qsa.getnumpy(valuePaths.Get(\"regressor0\"))\n",
    "regressedFwdsPVs = qsa.getnumpy(valuePaths.Get(\"regressedFwdsPVs\"))"
   ]
  },
  {
   "cell_type": "code",
   "execution_count": 18,
   "metadata": {
    "collapsed": false
   },
   "outputs": [
    {
     "data": {
      "text/plain": [
       "[<matplotlib.lines.Line2D at 0x3f02270>]"
      ]
     },
     "execution_count": 18,
     "metadata": {},
     "output_type": "execute_result"
    },
    {
     "data": {
      "image/png": "[encoded data removed]",
      "text/plain": [
       "<matplotlib.figure.Figure at 0x2919ed0>"
      ]
     },
     "metadata": {},
     "output_type": "display_data"
    }
   ],
   "source": [
    "# Examine the values after optimal exercise rule is applied\n",
    "fig = plt.figure()\n",
    "ax = fig.add_subplot(1, 1, 1)\n",
    "ax.set_xlim([0, 0.15])\n",
    "ax.set_ylim([-150000, 100000])\n",
    "col = 20 # up to 181.\n",
    "plt.plot(regressor0[:,col], fwdCashflowPVs[:,col],'.')\n",
    "plt.plot(regressor0[:,col], regressedFwdsPVs[:,col],'k.')\n",
    "\n"
   ]
  },
  {
   "cell_type": "markdown",
   "metadata": {},
   "source": [
    "# Final Notes\n",
    "\n",
    "Students can be taught to implement toy models that match the textbooks.\n",
    "\n",
    "These models can then work on:\n",
    " * toy products or real products\n",
    " * toy xVAs or real xVAs"
   ]
  },
  {
   "cell_type": "markdown",
   "metadata": {},
   "source": [
    "When students go to work they \n",
    " * make the same models, in the same framework but \n",
    "     * work with more factors\n",
    "     * make simulation and calibration faster\n",
    " * use these enhanced models on the bank's real portfolios and higher order metrics"
   ]
  },
  {
   "cell_type": "markdown",
   "metadata": {},
   "source": [
    "The definition of product/model/measure interaction in terms only of market observables is fundamental and is unlikely to prove inadequate in the future.\n",
    "\n",
    "This library does not change the way all courses would be taught.\n",
    "\n",
    "For me there are also other topics in the course that I teach that do not have a place directly in the main library framework such as:\n",
    "\n",
    " * Measure change \n",
    " * Getting closed form prices in HW and Black\n",
    " * How to build trees and \n",
    " * How to derive and solve PDEs\n",
    " * etc\n"
   ]
  },
  {
   "cell_type": "markdown",
   "metadata": {},
   "source": [
    "But, these tools and more will be required for calibrating the models in the library..."
   ]
  },
  {
   "cell_type": "markdown",
   "metadata": {},
   "source": [
    "until that also just becomes another module :)"
   ]
  },
  {
   "cell_type": "markdown",
   "metadata": {
    "collapsed": true
   },
   "source": [
    "# Conclusion\n",
    "\n",
    "With careful software management we can have a library that creates as a bridge between teaching and doing.  \n",
    "\n",
    "The library has a separable design and a plugin framework that will meet the needs for proprietary models, special cases and user customization without damaging the clarity and teaching suitability.\n",
    "\n",
    "I am hoping that many parts of quant finance can become like optimization: we all learn how to do it but in real life we use standard implementations.\n",
    "\n"
   ]
  },
  {
   "cell_type": "markdown",
   "metadata": {},
   "source": [
    "## The Future\n",
    "\n",
    "Finally Python offers us a great way to visualize the future of quant finance with QuantSA:"
   ]
  },
  {
   "cell_type": "code",
   "execution_count": 19,
   "metadata": {
    "collapsed": false
   },
   "outputs": [
    {
     "data": {
      "image/png": "[encoded data removed]",
      "text/plain": [
       "<matplotlib.figure.Figure at 0x10431210>"
      ]
     },
     "metadata": {},
     "output_type": "display_data"
    }
   ],
   "source": [
    "import numpy as np\n",
    "with plt.xkcd():\n",
    "\n",
    "    fig = plt.figure()\n",
    "    ax = fig.add_subplot(1, 1, 1)\n",
    "    ax.spines['right'].set_color('none')\n",
    "    ax.spines['top'].set_color('none')\n",
    "    plt.xticks([])\n",
    "    plt.yticks([])\n",
    "    ax.set_ylim([-30, 10])\n",
    "\n",
    "    data = np.ones(100)\n",
    "    data[70:] -= np.arange(30)\n",
    "\n",
    "    plt.annotate(\n",
    "        'THE DAY PEOPLE STARTED\\nUSING QUANTSA',\n",
    "        xy=(70, 0.9), arrowprops=dict(arrowstyle='->'), xytext=(15, -10))\n",
    "\n",
    "    plt.plot(data)\n",
    "\n",
    "    plt.xlabel('year')\n",
    "    plt.ylabel('quant hours wasted \\n repeating the same work')\n",
    "    plt.show()"
   ]
  },
  {
   "cell_type": "code",
   "execution_count": 20,
   "metadata": {
    "collapsed": false
   },
   "outputs": [
    {
     "data": {
      "image/png": "[encoded data removed]",
      "text/plain": [
       "<matplotlib.figure.Figure at 0x1059ef30>"
      ]
     },
     "metadata": {},
     "output_type": "display_data"
    }
   ],
   "source": [
    "with plt.xkcd():\n",
    "    fig = plt.figure()\n",
    "    ax = fig.add_subplot(1, 1, 1)\n",
    "    ax.bar([-0.125, 1.0-0.125], [100, 10], 0.25)\n",
    "    ax.spines['right'].set_color('none')\n",
    "    ax.spines['top'].set_color('none')\n",
    "    ax.xaxis.set_ticks_position('bottom')\n",
    "    ax.set_xticks([0, 1])\n",
    "    ax.set_xlim([-0.5, 1.5])\n",
    "    ax.set_ylim([0, 110])\n",
    "    ax.set_xticklabels(['BUSINESS AS\\n USUAL', 'QUANTSA ON \\n LEFT AND RIGHT'])\n",
    "    plt.yticks([])\n",
    "    plt.ylabel('Difficulty')\n",
    "    plt.title(\"TRANSITIONING FROM THEORY TO PRACTICE\")\n",
    "\n",
    "    plt.show()"
   ]
  },
  {
   "cell_type": "markdown",
   "metadata": {},
   "source": [
    "# References\n",
    "\n",
    "[1] Serguei Issakov Alexandre Antonov and Serguei Mechkov. Backward induction for future values.\n",
    "*Risk*, pages 92-97, 2015.\n",
    "\n",
    "[2] G. Cesari, J. Aquilina, and N. Charpillon. *Modelling, Pricing, and Hedging Counterparty Credit\n",
    "Exposure*. Springer, 2010.\n",
    "\n",
    "[3] Francis A. Longstaff and Eduardo S. Schwartz. Valuing american options by simulation: A\n",
    "simple least-squares approach. *Review of Financial Studies*, pages 113-147, 2001.\n",
    "\n",
    "[4] S.E. Shreve. *Stochastic Calculus for Finance II: Continuous-Time Models.* Number v. 11 in\n",
    "Springer Finance Textbooks. Springer, 2004."
   ]
  },
  {
   "cell_type": "markdown",
   "metadata": {
    "collapsed": true
   },
   "source": [
    "# Resources\n",
    "\n",
    "<http://www.quantsa.org/>\n",
    "\n",
    "https://github.com/JamesLTaylor/QuantSA"
   ]
  },
  {
   "cell_type": "code",
   "execution_count": null,
   "metadata": {
    "collapsed": true
   },
   "outputs": [],
   "source": []
  }
 ],
 "metadata": {
  "kernelspec": {
   "display_name": "Python 3.10.7 64-bit",
   "language": "python",
   "name": "python3"
  },
  "language_info": {
   "codemirror_mode": {
    "name": "ipython",
    "version": 2
   },
   "file_extension": ".py",
   "mimetype": "text/x-python",
   "name": "python",
   "nbconvert_exporter": "python",
   "pygments_lexer": "ipython2",
   "version": "3.10.7"
  },
  "vscode": {
   "interpreter": {
    "hash": "ee3d7aa93639a5a10c8e223a89e328a00b585b5a4fdb6f790168deffdec4f7bb"
   }
  }
 },
 "nbformat": 4,
 "nbformat_minor": 1
}
